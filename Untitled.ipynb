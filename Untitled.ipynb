{
 "cells": [
  {
   "cell_type": "code",
   "execution_count": null,
   "metadata": {},
   "outputs": [],
   "source": [
    "from jinja2 import Template\n",
    "names = None\n",
    "urls = None\n",
    "dates = None\n",
    "\n",
    "with open(\"Combined Linguistic Metadata v1.0.1.xlsx\") as f:\n",
    "    names = [x.strip() for x in f.readlines()]\n",
    "with open(\"urls.txt\") as f:\n",
    "    urls = [x.strip() for x in f.readlines()]\n",
    "with open(\"dates.txt\") as f:\n",
    "    dates = [x.strip() for x in f.readlines()]"
   ]
  }
 ],
 "metadata": {
  "kernelspec": {
   "display_name": "Python 3",
   "language": "python",
   "name": "python3"
  },
  "language_info": {
   "codemirror_mode": {
    "name": "ipython",
    "version": 3
   },
   "file_extension": ".py",
   "mimetype": "text/x-python",
   "name": "python",
   "nbconvert_exporter": "python",
   "pygments_lexer": "ipython3",
   "version": "3.7.5"
  }
 },
 "nbformat": 4,
 "nbformat_minor": 4
}
